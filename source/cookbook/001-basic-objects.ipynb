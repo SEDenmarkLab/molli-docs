{
 "cells": [
  {
   "attachments": {},
   "cell_type": "markdown",
   "metadata": {},
   "source": [
    "# Basic objects     \n",
    "\n",
    "Molli features classes that are meant to construct and represent arbitrary chemical entities. They can be constructed completely programmatically or by importing the data from a saved file. Interface with OpenBabel allows to import almost any known chemical format.\n",
    "Generic import functions will look like\n",
    "\n",
    "```python\n",
    "# This function imports a mol2 file from a string\n",
    "mol = ml.Molecule.loads_mol2(mol2_string)\n",
    "\n",
    "# or, similarly, from a file stream\n",
    "mol = ml.Molecule.load_mol2(file_io)\n",
    "```"
   ]
  },
  {
   "cell_type": "code",
   "execution_count": 3,
   "metadata": {},
   "outputs": [],
   "source": [
    "# Import molli\n",
    "import molli as ml"
   ]
  },
  {
   "cell_type": "code",
   "execution_count": 4,
   "metadata": {},
   "outputs": [
    {
     "name": "stdout",
     "output_type": "stream",
     "text": [
      "Path to a test file c:\\Users\\austi\\miniconda3\\lib\\site-packages\\molli\\files\\pentane_confs.mol2\n",
      "17\n",
      "pentane [produced with molli]\n",
      "C        -2.804500     3.996400    -1.412800\n",
      "C        -2.748400     3.317400    -0.053600\n",
      "H        -3.684000     4.644600    -1.476700\n",
      "H        -2.867800     3.257600    -2.218100\n",
      "H        -1.915400     4.612600    -1.580600\n",
      "C        -1.528800     2.404000     0.066300\n",
      "H        -3.665500     2.735900     0.095900\n",
      "H        -2.718500     4.083500     0.729900\n",
      "C        -0.228600     3.184600    -0.124600\n",
      "H        -1.592000     1.606100    -0.683800\n",
      "H        -1.526500     1.921300     1.051200\n",
      "C        -0.089200     4.294900     0.904600\n",
      "H        -0.200100     3.620600    -1.130000\n",
      "H         0.628700     2.506600    -0.040400\n",
      "H        -0.915000     5.009100     0.825500\n",
      "H         0.847200     4.839900     0.749600\n",
      "H        -0.081700     3.888900     1.921200\n",
      "\n"
     ]
    }
   ],
   "source": [
    "# Assigns test file path to a variable\n",
    "fpath = ml.files.mol2.pentane_confs.path\n",
    "print(\"Path to a test file\", fpath)\n",
    "\n",
    "# Loads a molecule from a file\n",
    "m1 = ml.Molecule.load_mol2(fpath, name=\"pentane\")\n",
    "print(m1.dumps_xyz())"
   ]
  },
  {
   "cell_type": "code",
   "execution_count": 5,
   "metadata": {},
   "outputs": [
    {
     "name": "stdout",
     "output_type": "stream",
     "text": [
      "3\n",
      "Substructure(parent=Molecule(name='pentane', formula='C5 H12'), atoms=[1, 3, 5]) [produced with molli]\n",
      "C        -2.748400     3.317400    -0.053600\n",
      "H        -2.867800     3.257600    -2.218100\n",
      "C        -1.528800     2.404000     0.066300\n",
      "\n",
      "3\n",
      "Substructure(parent=Molecule(name='pentane', formula='C5 H12'), atoms=[1, 3, 5]) [produced with molli]\n",
      "C        47.251600    53.317400    49.946400\n",
      "H        47.132200    53.257600    47.781900\n",
      "C        48.471200    52.404000    50.066300\n",
      "\n"
     ]
    }
   ],
   "source": [
    "\n",
    "# Dumps xyz coordinates of the 2nd, 3rd and 4th atoms\n",
    "sub = ml.Substructure(m1, (1, 3, 5))\n",
    "print(sub.dumps_xyz())\n",
    "\n",
    "# Translates the coordinates by 50.0 in all directions \n",
    "sub.coords += 50.0\n",
    "print(sub.dumps_xyz())"
   ]
  }
 ],
 "metadata": {
  "kernelspec": {
   "display_name": "Python 3",
   "language": "python",
   "name": "python3"
  },
  "language_info": {
   "codemirror_mode": {
    "name": "ipython",
    "version": 3
   },
   "file_extension": ".py",
   "mimetype": "text/x-python",
   "name": "python",
   "nbconvert_exporter": "python",
   "pygments_lexer": "ipython3",
   "version": "3.10.9"
  },
  "orig_nbformat": 4
 },
 "nbformat": 4,
 "nbformat_minor": 2
}
