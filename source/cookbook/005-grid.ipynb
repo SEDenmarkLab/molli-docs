{
 "cells": [
  {
   "attachments": {},
   "cell_type": "markdown",
   "metadata": {},
   "source": [
    "# Grid Creation"
   ]
  },
  {
   "cell_type": "code",
   "execution_count": 2,
   "metadata": {},
   "outputs": [],
   "source": [
    "# Import the necessary packages\n",
    "\n",
    "import molli as ml\n",
    "import pyvista as pv"
   ]
  },
  {
   "cell_type": "code",
   "execution_count": 3,
   "metadata": {},
   "outputs": [
    {
     "name": "stdout",
     "output_type": "stream",
     "text": [
      "(25, 3)\n"
     ]
    },
    {
     "data": {
      "text/plain": [
       "array([[-1. , -1. ,  0. ],\n",
       "       [-0.5, -1. ,  0. ],\n",
       "       [ 0. , -1. ,  0. ],\n",
       "       [ 0.5, -1. ,  0. ],\n",
       "       [ 1. , -1. ,  0. ],\n",
       "       [-1. , -0.5,  0. ],\n",
       "       [-0.5, -0.5,  0. ],\n",
       "       [ 0. , -0.5,  0. ],\n",
       "       [ 0.5, -0.5,  0. ],\n",
       "       [ 1. , -0.5,  0. ],\n",
       "       [-1. ,  0. ,  0. ],\n",
       "       [-0.5,  0. ,  0. ],\n",
       "       [ 0. ,  0. ,  0. ],\n",
       "       [ 0.5,  0. ,  0. ],\n",
       "       [ 1. ,  0. ,  0. ],\n",
       "       [-1. ,  0.5,  0. ],\n",
       "       [-0.5,  0.5,  0. ],\n",
       "       [ 0. ,  0.5,  0. ],\n",
       "       [ 0.5,  0.5,  0. ],\n",
       "       [ 1. ,  0.5,  0. ],\n",
       "       [-1. ,  1. ,  0. ],\n",
       "       [-0.5,  1. ,  0. ],\n",
       "       [ 0. ,  1. ,  0. ],\n",
       "       [ 0.5,  1. ,  0. ],\n",
       "       [ 1. ,  1. ,  0. ]], dtype=float32)"
      ]
     },
     "execution_count": 3,
     "metadata": {},
     "output_type": "execute_result"
    }
   ],
   "source": [
    "# Creates a rectangular grid as a canvas \n",
    "g = ml.descriptor.rectangular_grid([-1,-1,0], [1,1,0], spacing=0.5)\n",
    "print(g.shape)\n",
    "g"
   ]
  },
  {
   "cell_type": "code",
   "execution_count": 4,
   "metadata": {},
   "outputs": [
    {
     "name": "stderr",
     "output_type": "stream",
     "text": [
      "c:\\Users\\austi\\miniconda3\\lib\\site-packages\\pyvista\\jupyter\\notebook.py:58: UserWarning: Failed to use notebook backend: \n",
      "\n",
      "Install ``panel`` to use this feature\n",
      "\n",
      "Falling back to a static output.\n",
      "  warnings.warn(\n"
     ]
    },
    {
     "data": {
      "image/png": "[encoded data removed]",
      "text/plain": [
       "<PIL.Image.Image image mode=RGB size=640x640>"
      ]
     },
     "metadata": {},
     "output_type": "display_data"
    }
   ],
   "source": [
    "\n",
    "# Adds theme to Pyvista plot and allows for jupyter notebook integration\n",
    "pv.set_plot_theme(\"dark\") \n",
    "plt = pv.Plotter(notebook=True)\n",
    "\n",
    "# Creates a point cloud from the grid generated by molli and adds it to the plot\n",
    "points = pv.PointSet(g)\n",
    "\n",
    "# Adds more features to the plot and displays it\n",
    "plt.add_mesh(points, color=\"cyan\", render_points_as_spheres=True, point_size=10)\n",
    "plt.add_axes_at_origin()\n",
    "plt.show(jupyter_backend=\"panel\", window_size=(640,640))"
   ]
  },
  {
   "cell_type": "code",
   "execution_count": null,
   "metadata": {},
   "outputs": [],
   "source": []
  }
 ],
 "metadata": {
  "kernelspec": {
   "display_name": "molli-dev",
   "language": "python",
   "name": "python3"
  },
  "language_info": {
   "codemirror_mode": {
    "name": "ipython",
    "version": 3
   },
   "file_extension": ".py",
   "mimetype": "text/x-python",
   "name": "python",
   "nbconvert_exporter": "python",
   "pygments_lexer": "ipython3",
   "version": "3.10.9"
  },
  "orig_nbformat": 4,
  "vscode": {
   "interpreter": {
    "hash": "4c66e8f176fbf3df590ec010f6af88e4e499f7786e053ca101a7d8aa8a685488"
   }
  }
 },
 "nbformat": 4,
 "nbformat_minor": 2
}
