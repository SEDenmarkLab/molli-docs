{
 "cells": [
  {
   "attachments": {},
   "cell_type": "markdown",
   "metadata": {},
   "source": [
    "# Generating Structures and Atom Coordinates "
   ]
  },
  {
   "cell_type": "code",
   "execution_count": 2,
   "metadata": {},
   "outputs": [],
   "source": [
    "import molli as ml\n",
    "import py3Dmol"
   ]
  },
  {
   "cell_type": "code",
   "execution_count": 3,
   "metadata": {},
   "outputs": [
    {
     "name": "stdout",
     "output_type": "stream",
     "text": [
      "34\n",
      "unknown [produced with molli]\n",
      "C        -2.804500     3.996400    -1.412800\n",
      "C        -2.748400     3.317400    -0.053600\n",
      "H        -3.684000     4.644600    -1.476700\n",
      "H        -2.867800     3.257600    -2.218100\n",
      "H        -1.915400     4.612600    -1.580600\n",
      "C        -1.528800     2.404000     0.066300\n",
      "H        -3.665500     2.735900     0.095900\n",
      "H        -2.718500     4.083500     0.729900\n",
      "C        -0.228600     3.184600    -0.124600\n",
      "H        -1.592000     1.606100    -0.683800\n",
      "H        -1.526500     1.921300     1.051200\n",
      "C        -0.089200     4.294900     0.904600\n",
      "H        -0.200100     3.620600    -1.130000\n",
      "H         0.628700     2.506600    -0.040400\n",
      "H        -0.915000     5.009100     0.825500\n",
      "H         0.847200     4.839900     0.749600\n",
      "H        -0.081700     3.888900     1.921200\n",
      "C        47.195500     3.996400    -1.412800\n",
      "C        47.251600     3.317400    -0.053600\n",
      "H        46.316000     4.644600    -1.476700\n",
      "H        47.132200     3.257600    -2.218100\n",
      "H        48.084600     4.612600    -1.580600\n",
      "C        48.471200     2.404000     0.066300\n",
      "H        46.334500     2.735900     0.095900\n",
      "H        47.281500     4.083500     0.729900\n",
      "C        49.771400     3.184600    -0.124600\n",
      "H        48.408000     1.606100    -0.683800\n",
      "H        48.473500     1.921300     1.051200\n",
      "C        49.910800     4.294900     0.904600\n",
      "H        49.799900     3.620600    -1.130000\n",
      "H        50.628700     2.506600    -0.040400\n",
      "H        49.085000     5.009100     0.825500\n",
      "H        50.847200     4.839900     0.749600\n",
      "H        49.918300     3.888900     1.921200\n",
      "\n"
     ]
    },
    {
     "name": "stderr",
     "output_type": "stream",
     "text": [
      "c:\\Users\\austi\\miniconda3\\lib\\site-packages\\molli\\chem\\atom.py:1039: UserWarning: Replaced illegal characters in molecule name: .\\pentane.xyz --> __pentane_xyz\n",
      "  warn(f\"Replaced illegal characters in molecule name: {value} -->\" f\" {sub}\")\n"
     ]
    }
   ],
   "source": [
    "# Opens a file with pentane conformers and loads it as molli structure instance\n",
    "with ml.files.mol2.pentane_confs.open() as f:\n",
    "    mol1 = ml.Structure.load_mol2(f)\n",
    "\n",
    "mol2 = ml.Structure(mol1)\n",
    "\n",
    "# Translates the x-axis by 50 Angstroms \n",
    "mol2.translate([50,0,0])\n",
    "\n",
    "#Prints the xyz format of the two molecules \n",
    "print((mol1 | mol2).dumps_xyz())"
   ]
  },
  {
   "cell_type": "code",
   "execution_count": null,
   "metadata": {},
   "outputs": [],
   "source": [
    "# Looks for all xyz files in the root directory and loads them as CartesianGeometry instances\n",
    "pattern = str(ml.files.ROOT / \"*.xyz\")\n",
    "\n",
    "for g in ml.aux.dglob(pattern, ml.CartesianGeometry.load_all_xyz, strict=False):\n",
    "    print(g)"
   ]
  },
  {
   "cell_type": "code",
   "execution_count": null,
   "metadata": {},
   "outputs": [],
   "source": [
    "# Yields atoms from the  each structure that are connected to Fluorine atoms\n",
    "m1 = ml.Structure.load_mol2(ml.files.mol2.fxyl.path)\n",
    "f1 = next(m1.yield_atoms_by_element(\"F\"))\n",
    "\n",
    "m2 = ml.Structure(m1)\n",
    "f2 = next(m2.yield_atoms_by_element(\"F\"))\n",
    "\n",
    "# Joins the two structures together and optimizes the rotation of the new structure \n",
    "m3 = ml.Structure.join(m1, m2, f1, f2, optimize_rotation=True)\n",
    "print(m3.dumps_xyz())"
   ]
  }
 ],
 "metadata": {
  "kernelspec": {
   "display_name": "Python 3",
   "language": "python",
   "name": "python3"
  },
  "language_info": {
   "codemirror_mode": {
    "name": "ipython",
    "version": 3
   },
   "file_extension": ".py",
   "mimetype": "text/x-python",
   "name": "python",
   "nbconvert_exporter": "python",
   "pygments_lexer": "ipython3",
   "version": "3.10.9"
  },
  "orig_nbformat": 4
 },
 "nbformat": 4,
 "nbformat_minor": 2
}
